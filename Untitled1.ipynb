{
 "cells": [
  {
   "cell_type": "code",
   "execution_count": 2,
   "id": "014247e0",
   "metadata": {},
   "outputs": [],
   "source": [
    "from django.db import models\n",
    "from panel.models import Iteam"
   ]
  },
  {
   "cell_type": "code",
   "execution_count": 12,
   "id": "6b9c12ae",
   "metadata": {},
   "outputs": [
    {
     "data": {
      "text/plain": [
       "[<Iteam: Новая страница>, <Iteam: второй пост>]"
      ]
     },
     "execution_count": 12,
     "metadata": {},
     "output_type": "execute_result"
    }
   ],
   "source": [
    "list(Iteam.objects.all())"
   ]
  },
  {
   "cell_type": "code",
   "execution_count": null,
   "id": "021be235",
   "metadata": {},
   "outputs": [],
   "source": []
  },
  {
   "cell_type": "code",
   "execution_count": null,
   "id": "fb1cf76a",
   "metadata": {},
   "outputs": [],
   "source": []
  },
  {
   "cell_type": "code",
   "execution_count": null,
   "id": "59182797",
   "metadata": {},
   "outputs": [],
   "source": []
  },
  {
   "cell_type": "code",
   "execution_count": null,
   "id": "52986baa",
   "metadata": {},
   "outputs": [],
   "source": []
  }
 ],
 "metadata": {
  "kernelspec": {
   "display_name": "Django Shell-Plus",
   "language": "python",
   "name": "django_extensions"
  },
  "language_info": {
   "codemirror_mode": {
    "name": "ipython",
    "version": 3
   },
   "file_extension": ".py",
   "mimetype": "text/x-python",
   "name": "python",
   "nbconvert_exporter": "python",
   "pygments_lexer": "ipython3",
   "version": "3.11.1"
  }
 },
 "nbformat": 4,
 "nbformat_minor": 5
}
