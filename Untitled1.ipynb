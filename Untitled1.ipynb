{
 "cells": [
  {
   "cell_type": "code",
   "execution_count": 2,
   "id": "014247e0",
   "metadata": {},
   "outputs": [],
   "source": [
    "from django.db import models\n",
    "from panel.models import Iteam"
   ]
  },
  {
   "cell_type": "code",
   "execution_count": 4,
   "id": "6b9c12ae",
   "metadata": {},
   "outputs": [],
   "source": [
    "post_test = Iteam.objects.create(title='ok')\n",
    "post_test.title = 'super'\n",
    "post_test.save()"
   ]
  },
  {
   "cell_type": "code",
   "execution_count": 10,
   "id": "021be235",
   "metadata": {},
   "outputs": [
    {
     "data": {
      "text/plain": [
       "<QuerySet [('super',)]>"
      ]
     },
     "execution_count": 10,
     "metadata": {},
     "output_type": "execute_result"
    }
   ],
   "source": [
    "Iteam.objects.values_list('title')"
   ]
  },
  {
   "cell_type": "code",
   "execution_count": null,
   "id": "fb1cf76a",
   "metadata": {},
   "outputs": [],
   "source": []
  }
 ],
 "metadata": {
  "kernelspec": {
   "display_name": "Django Shell-Plus",
   "language": "python",
   "name": "django_extensions"
  },
  "language_info": {
   "codemirror_mode": {
    "name": "ipython",
    "version": 3
   },
   "file_extension": ".py",
   "mimetype": "text/x-python",
   "name": "python",
   "nbconvert_exporter": "python",
   "pygments_lexer": "ipython3",
   "version": "3.11.1"
  }
 },
 "nbformat": 4,
 "nbformat_minor": 5
}
