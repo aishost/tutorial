{
 "cells": [
  {
   "cell_type": "code",
   "execution_count": 2,
   "id": "014247e0",
   "metadata": {},
   "outputs": [],
   "source": [
    "from django.db import models\n",
    "from panel.models import Iteam"
   ]
  },
  {
   "cell_type": "code",
   "execution_count": 3,
   "id": "6b9c12ae",
   "metadata": {},
   "outputs": [
    {
     "ename": "FieldError",
     "evalue": "Cannot resolve keyword '' into field. Choices are: author, author_id, content, date_created, date_updated, id, title",
     "output_type": "error",
     "traceback": [
      "\u001b[0;31m---------------------------------------------------------------------------\u001b[0m",
      "\u001b[0;31mFieldError\u001b[0m                                Traceback (most recent call last)",
      "File \u001b[0;32m~/Desktop/test-panel/tutorial-env/lib/python3.11/site-packages/django/db/models/sql/query.py:2142\u001b[0m, in \u001b[0;36mQuery.add_fields\u001b[0;34m(self, field_names, allow_m2m)\u001b[0m\n\u001b[1;32m   2139\u001b[0m \u001b[38;5;28;01mfor\u001b[39;00m name \u001b[38;5;129;01min\u001b[39;00m field_names:\n\u001b[1;32m   2140\u001b[0m     \u001b[38;5;66;03m# Join promotion note - we must not remove any rows here, so\u001b[39;00m\n\u001b[1;32m   2141\u001b[0m     \u001b[38;5;66;03m# if there is no existing joins, use outer join.\u001b[39;00m\n\u001b[0;32m-> 2142\u001b[0m     join_info \u001b[38;5;241m=\u001b[39m \u001b[38;5;28;43mself\u001b[39;49m\u001b[38;5;241;43m.\u001b[39;49m\u001b[43msetup_joins\u001b[49m\u001b[43m(\u001b[49m\n\u001b[1;32m   2143\u001b[0m \u001b[43m        \u001b[49m\u001b[43mname\u001b[49m\u001b[38;5;241;43m.\u001b[39;49m\u001b[43msplit\u001b[49m\u001b[43m(\u001b[49m\u001b[43mLOOKUP_SEP\u001b[49m\u001b[43m)\u001b[49m\u001b[43m,\u001b[49m\u001b[43m \u001b[49m\u001b[43mopts\u001b[49m\u001b[43m,\u001b[49m\u001b[43m \u001b[49m\u001b[43malias\u001b[49m\u001b[43m,\u001b[49m\u001b[43m \u001b[49m\u001b[43mallow_many\u001b[49m\u001b[38;5;241;43m=\u001b[39;49m\u001b[43mallow_m2m\u001b[49m\n\u001b[1;32m   2144\u001b[0m \u001b[43m    \u001b[49m\u001b[43m)\u001b[49m\n\u001b[1;32m   2145\u001b[0m     targets, final_alias, joins \u001b[38;5;241m=\u001b[39m \u001b[38;5;28mself\u001b[39m\u001b[38;5;241m.\u001b[39mtrim_joins(\n\u001b[1;32m   2146\u001b[0m         join_info\u001b[38;5;241m.\u001b[39mtargets,\n\u001b[1;32m   2147\u001b[0m         join_info\u001b[38;5;241m.\u001b[39mjoins,\n\u001b[1;32m   2148\u001b[0m         join_info\u001b[38;5;241m.\u001b[39mpath,\n\u001b[1;32m   2149\u001b[0m     )\n",
      "File \u001b[0;32m~/Desktop/test-panel/tutorial-env/lib/python3.11/site-packages/django/db/models/sql/query.py:1808\u001b[0m, in \u001b[0;36mQuery.setup_joins\u001b[0;34m(self, names, opts, alias, can_reuse, allow_many, reuse_with_filtered_relation)\u001b[0m\n\u001b[1;32m   1807\u001b[0m \u001b[38;5;28;01mtry\u001b[39;00m:\n\u001b[0;32m-> 1808\u001b[0m     path, final_field, targets, rest \u001b[38;5;241m=\u001b[39m \u001b[38;5;28;43mself\u001b[39;49m\u001b[38;5;241;43m.\u001b[39;49m\u001b[43mnames_to_path\u001b[49m\u001b[43m(\u001b[49m\n\u001b[1;32m   1809\u001b[0m \u001b[43m        \u001b[49m\u001b[43mnames\u001b[49m\u001b[43m[\u001b[49m\u001b[43m:\u001b[49m\u001b[43mpivot\u001b[49m\u001b[43m]\u001b[49m\u001b[43m,\u001b[49m\n\u001b[1;32m   1810\u001b[0m \u001b[43m        \u001b[49m\u001b[43mopts\u001b[49m\u001b[43m,\u001b[49m\n\u001b[1;32m   1811\u001b[0m \u001b[43m        \u001b[49m\u001b[43mallow_many\u001b[49m\u001b[43m,\u001b[49m\n\u001b[1;32m   1812\u001b[0m \u001b[43m        \u001b[49m\u001b[43mfail_on_missing\u001b[49m\u001b[38;5;241;43m=\u001b[39;49m\u001b[38;5;28;43;01mTrue\u001b[39;49;00m\u001b[43m,\u001b[49m\n\u001b[1;32m   1813\u001b[0m \u001b[43m    \u001b[49m\u001b[43m)\u001b[49m\n\u001b[1;32m   1814\u001b[0m \u001b[38;5;28;01mexcept\u001b[39;00m FieldError \u001b[38;5;28;01mas\u001b[39;00m exc:\n",
      "File \u001b[0;32m~/Desktop/test-panel/tutorial-env/lib/python3.11/site-packages/django/db/models/sql/query.py:1709\u001b[0m, in \u001b[0;36mQuery.names_to_path\u001b[0;34m(self, names, opts, allow_many, fail_on_missing)\u001b[0m\n\u001b[1;32m   1702\u001b[0m     available \u001b[38;5;241m=\u001b[39m \u001b[38;5;28msorted\u001b[39m(\n\u001b[1;32m   1703\u001b[0m         [\n\u001b[1;32m   1704\u001b[0m             \u001b[38;5;241m*\u001b[39mget_field_names_from_opts(opts),\n\u001b[0;32m   (...)\u001b[0m\n\u001b[1;32m   1707\u001b[0m         ]\n\u001b[1;32m   1708\u001b[0m     )\n\u001b[0;32m-> 1709\u001b[0m     \u001b[38;5;28;01mraise\u001b[39;00m FieldError(\n\u001b[1;32m   1710\u001b[0m         \u001b[38;5;124m\"\u001b[39m\u001b[38;5;124mCannot resolve keyword \u001b[39m\u001b[38;5;124m'\u001b[39m\u001b[38;5;132;01m%s\u001b[39;00m\u001b[38;5;124m'\u001b[39m\u001b[38;5;124m into field. \u001b[39m\u001b[38;5;124m\"\u001b[39m\n\u001b[1;32m   1711\u001b[0m         \u001b[38;5;124m\"\u001b[39m\u001b[38;5;124mChoices are: \u001b[39m\u001b[38;5;132;01m%s\u001b[39;00m\u001b[38;5;124m\"\u001b[39m \u001b[38;5;241m%\u001b[39m (name, \u001b[38;5;124m\"\u001b[39m\u001b[38;5;124m, \u001b[39m\u001b[38;5;124m\"\u001b[39m\u001b[38;5;241m.\u001b[39mjoin(available))\n\u001b[1;32m   1712\u001b[0m     )\n\u001b[1;32m   1713\u001b[0m \u001b[38;5;28;01mbreak\u001b[39;00m\n",
      "\u001b[0;31mFieldError\u001b[0m: Cannot resolve keyword '' into field. Choices are: author, author_id, content, date_created, date_updated, id, title",
      "\nDuring handling of the above exception, another exception occurred:\n",
      "\u001b[0;31mFieldError\u001b[0m                                Traceback (most recent call last)",
      "Cell \u001b[0;32mIn[3], line 1\u001b[0m\n\u001b[0;32m----> 1\u001b[0m \u001b[43mIteam\u001b[49m\u001b[38;5;241;43m.\u001b[39;49m\u001b[43mobjects\u001b[49m\u001b[38;5;241;43m.\u001b[39;49m\u001b[43mvalues_list\u001b[49m\u001b[43m(\u001b[49m\u001b[38;5;124;43m'\u001b[39;49m\u001b[38;5;124;43m'\u001b[39;49m\u001b[43m)\u001b[49m\n",
      "File \u001b[0;32m~/Desktop/test-panel/tutorial-env/lib/python3.11/site-packages/django/db/models/manager.py:85\u001b[0m, in \u001b[0;36mBaseManager._get_queryset_methods.<locals>.create_method.<locals>.manager_method\u001b[0;34m(self, *args, **kwargs)\u001b[0m\n\u001b[1;32m     84\u001b[0m \u001b[38;5;28;01mdef\u001b[39;00m \u001b[38;5;21mmanager_method\u001b[39m(\u001b[38;5;28mself\u001b[39m, \u001b[38;5;241m*\u001b[39margs, \u001b[38;5;241m*\u001b[39m\u001b[38;5;241m*\u001b[39mkwargs):\n\u001b[0;32m---> 85\u001b[0m     \u001b[38;5;28;01mreturn\u001b[39;00m \u001b[38;5;28;43mgetattr\u001b[39;49m\u001b[43m(\u001b[49m\u001b[38;5;28;43mself\u001b[39;49m\u001b[38;5;241;43m.\u001b[39;49m\u001b[43mget_queryset\u001b[49m\u001b[43m(\u001b[49m\u001b[43m)\u001b[49m\u001b[43m,\u001b[49m\u001b[43m \u001b[49m\u001b[43mname\u001b[49m\u001b[43m)\u001b[49m\u001b[43m(\u001b[49m\u001b[38;5;241;43m*\u001b[39;49m\u001b[43margs\u001b[49m\u001b[43m,\u001b[49m\u001b[43m \u001b[49m\u001b[38;5;241;43m*\u001b[39;49m\u001b[38;5;241;43m*\u001b[39;49m\u001b[43mkwargs\u001b[49m\u001b[43m)\u001b[49m\n",
      "File \u001b[0;32m~/Desktop/test-panel/tutorial-env/lib/python3.11/site-packages/django/db/models/query.py:1330\u001b[0m, in \u001b[0;36mQuerySet.values_list\u001b[0;34m(self, flat, named, *fields)\u001b[0m\n\u001b[1;32m   1327\u001b[0m     \u001b[38;5;28;01melse\u001b[39;00m:\n\u001b[1;32m   1328\u001b[0m         _fields\u001b[38;5;241m.\u001b[39mappend(field)\n\u001b[0;32m-> 1330\u001b[0m clone \u001b[38;5;241m=\u001b[39m \u001b[38;5;28;43mself\u001b[39;49m\u001b[38;5;241;43m.\u001b[39;49m\u001b[43m_values\u001b[49m\u001b[43m(\u001b[49m\u001b[38;5;241;43m*\u001b[39;49m\u001b[43m_fields\u001b[49m\u001b[43m,\u001b[49m\u001b[43m \u001b[49m\u001b[38;5;241;43m*\u001b[39;49m\u001b[38;5;241;43m*\u001b[39;49m\u001b[43mexpressions\u001b[49m\u001b[43m)\u001b[49m\n\u001b[1;32m   1331\u001b[0m clone\u001b[38;5;241m.\u001b[39m_iterable_class \u001b[38;5;241m=\u001b[39m (\n\u001b[1;32m   1332\u001b[0m     NamedValuesListIterable\n\u001b[1;32m   1333\u001b[0m     \u001b[38;5;28;01mif\u001b[39;00m named\n\u001b[0;32m   (...)\u001b[0m\n\u001b[1;32m   1336\u001b[0m     \u001b[38;5;28;01melse\u001b[39;00m ValuesListIterable\n\u001b[1;32m   1337\u001b[0m )\n\u001b[1;32m   1338\u001b[0m \u001b[38;5;28;01mreturn\u001b[39;00m clone\n",
      "File \u001b[0;32m~/Desktop/test-panel/tutorial-env/lib/python3.11/site-packages/django/db/models/query.py:1293\u001b[0m, in \u001b[0;36mQuerySet._values\u001b[0;34m(self, *fields, **expressions)\u001b[0m\n\u001b[1;32m   1291\u001b[0m     clone \u001b[38;5;241m=\u001b[39m clone\u001b[38;5;241m.\u001b[39mannotate(\u001b[38;5;241m*\u001b[39m\u001b[38;5;241m*\u001b[39mexpressions)\n\u001b[1;32m   1292\u001b[0m clone\u001b[38;5;241m.\u001b[39m_fields \u001b[38;5;241m=\u001b[39m fields\n\u001b[0;32m-> 1293\u001b[0m \u001b[43mclone\u001b[49m\u001b[38;5;241;43m.\u001b[39;49m\u001b[43mquery\u001b[49m\u001b[38;5;241;43m.\u001b[39;49m\u001b[43mset_values\u001b[49m\u001b[43m(\u001b[49m\u001b[43mfields\u001b[49m\u001b[43m)\u001b[49m\n\u001b[1;32m   1294\u001b[0m \u001b[38;5;28;01mreturn\u001b[39;00m clone\n",
      "File \u001b[0;32m~/Desktop/test-panel/tutorial-env/lib/python3.11/site-packages/django/db/models/sql/query.py:2437\u001b[0m, in \u001b[0;36mQuery.set_values\u001b[0;34m(self, fields)\u001b[0m\n\u001b[1;32m   2434\u001b[0m     \u001b[38;5;28mself\u001b[39m\u001b[38;5;241m.\u001b[39mgroup_by \u001b[38;5;241m=\u001b[39m \u001b[38;5;28mtuple\u001b[39m(group_by)\n\u001b[1;32m   2436\u001b[0m \u001b[38;5;28mself\u001b[39m\u001b[38;5;241m.\u001b[39mvalues_select \u001b[38;5;241m=\u001b[39m \u001b[38;5;28mtuple\u001b[39m(field_names)\n\u001b[0;32m-> 2437\u001b[0m \u001b[38;5;28;43mself\u001b[39;49m\u001b[38;5;241;43m.\u001b[39;49m\u001b[43madd_fields\u001b[49m\u001b[43m(\u001b[49m\u001b[43mfield_names\u001b[49m\u001b[43m,\u001b[49m\u001b[43m \u001b[49m\u001b[38;5;28;43;01mTrue\u001b[39;49;00m\u001b[43m)\u001b[49m\n",
      "File \u001b[0;32m~/Desktop/test-panel/tutorial-env/lib/python3.11/site-packages/django/db/models/sql/query.py:2175\u001b[0m, in \u001b[0;36mQuery.add_fields\u001b[0;34m(self, field_names, allow_m2m)\u001b[0m\n\u001b[1;32m   2166\u001b[0m \u001b[38;5;28;01melse\u001b[39;00m:\n\u001b[1;32m   2167\u001b[0m     names \u001b[38;5;241m=\u001b[39m \u001b[38;5;28msorted\u001b[39m(\n\u001b[1;32m   2168\u001b[0m         [\n\u001b[1;32m   2169\u001b[0m             \u001b[38;5;241m*\u001b[39mget_field_names_from_opts(opts),\n\u001b[0;32m   (...)\u001b[0m\n\u001b[1;32m   2173\u001b[0m         ]\n\u001b[1;32m   2174\u001b[0m     )\n\u001b[0;32m-> 2175\u001b[0m     \u001b[38;5;28;01mraise\u001b[39;00m FieldError(\n\u001b[1;32m   2176\u001b[0m         \u001b[38;5;124m\"\u001b[39m\u001b[38;5;124mCannot resolve keyword \u001b[39m\u001b[38;5;132;01m%r\u001b[39;00m\u001b[38;5;124m into field. \u001b[39m\u001b[38;5;124m\"\u001b[39m\n\u001b[1;32m   2177\u001b[0m         \u001b[38;5;124m\"\u001b[39m\u001b[38;5;124mChoices are: \u001b[39m\u001b[38;5;132;01m%s\u001b[39;00m\u001b[38;5;124m\"\u001b[39m \u001b[38;5;241m%\u001b[39m (name, \u001b[38;5;124m\"\u001b[39m\u001b[38;5;124m, \u001b[39m\u001b[38;5;124m\"\u001b[39m\u001b[38;5;241m.\u001b[39mjoin(names))\n\u001b[1;32m   2178\u001b[0m     )\n",
      "\u001b[0;31mFieldError\u001b[0m: Cannot resolve keyword '' into field. Choices are: author, author_id, content, date_created, date_updated, id, title"
     ]
    }
   ],
   "source": [
    "Iteam.objects.values_list('')"
   ]
  },
  {
   "cell_type": "code",
   "execution_count": null,
   "id": "021be235",
   "metadata": {},
   "outputs": [],
   "source": []
  },
  {
   "cell_type": "code",
   "execution_count": null,
   "id": "fb1cf76a",
   "metadata": {},
   "outputs": [],
   "source": []
  },
  {
   "cell_type": "code",
   "execution_count": null,
   "id": "59182797",
   "metadata": {},
   "outputs": [],
   "source": []
  },
  {
   "cell_type": "code",
   "execution_count": null,
   "id": "52986baa",
   "metadata": {},
   "outputs": [],
   "source": []
  }
 ],
 "metadata": {
  "kernelspec": {
   "display_name": "Django Shell-Plus",
   "language": "python",
   "name": "django_extensions"
  },
  "language_info": {
   "codemirror_mode": {
    "name": "ipython",
    "version": 3
   },
   "file_extension": ".py",
   "mimetype": "text/x-python",
   "name": "python",
   "nbconvert_exporter": "python",
   "pygments_lexer": "ipython3",
   "version": "3.11.1"
  }
 },
 "nbformat": 4,
 "nbformat_minor": 5
}
